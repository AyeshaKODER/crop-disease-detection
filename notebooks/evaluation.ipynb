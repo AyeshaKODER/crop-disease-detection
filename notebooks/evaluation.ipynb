{
 "cells": [
  {
   "cell_type": "code",
   "execution_count": null,
   "id": "2b0b340b",
   "metadata": {
    "vscode": {
     "languageId": "plaintext"
    }
   },
   "outputs": [],
   "source": [
    "import tensorflow as tf\n",
    "import numpy as np\n",
    "import matplotlib.pyplot as plt\n",
    "import seaborn as sns\n",
    "from sklearn.metrics import classification_report, confusion_matrix\n",
    "from tensorflow.keras.preprocessing.image import ImageDataGenerator\n",
    "\n",
    "# Load your best model\n",
    "model = tf.keras.models.load_model(\"src/models/best_model.h5\")\n",
    "print(\"✅ Model loaded successfully\")\n",
    "\n",
    "data_dir = \"data/PlantVillage\"  # adjust if needed\n",
    "\n",
    "datagen = ImageDataGenerator(rescale=1./255, validation_split=0.2)\n",
    "\n",
    "val_gen = datagen.flow_from_directory(\n",
    "    data_dir,\n",
    "    target_size=(224, 224),\n",
    "    batch_size=32,\n",
    "    subset=\"validation\",\n",
    "    class_mode=\"categorical\",\n",
    "    shuffle=False\n",
    ")\n",
    "\n",
    "y_pred = model.predict(val_gen)\n",
    "y_pred_classes = np.argmax(y_pred, axis=1)\n",
    "y_true = val_gen.classes\n",
    "class_labels = list(val_gen.class_indices.keys())\n",
    "\n",
    "cm = confusion_matrix(y_true, y_pred_classes)\n",
    "\n",
    "plt.figure(figsize=(14, 10))\n",
    "sns.heatmap(cm, annot=False, cmap=\"Blues\", xticklabels=class_labels, yticklabels=class_labels)\n",
    "plt.xlabel(\"Predicted\")\n",
    "plt.ylabel(\"True\")\n",
    "plt.title(\"Confusion Matrix\")\n",
    "plt.show()\n",
    "\n",
    "print(classification_report(y_true, y_pred_classes, target_names=class_labels))\n",
    "\n",
    "from tensorflow.keras.preprocessing import image\n",
    "\n",
    "img_path = \"sample_leaf.png\"  # test image\n",
    "img = image.load_img(img_path, target_size=(224, 224))\n",
    "img_array = image.img_to_array(img) / 255.0\n",
    "img_array = np.expand_dims(img_array, axis=0)\n",
    "\n",
    "pred = model.predict(img_array)\n",
    "pred_class = np.argmax(pred, axis=1)[0]\n",
    "print(f\"🌿 Prediction: {class_labels[pred_class]}\")\n"
   ]
  }
 ],
 "metadata": {
  "language_info": {
   "name": "python"
  }
 },
 "nbformat": 4,
 "nbformat_minor": 5
}
